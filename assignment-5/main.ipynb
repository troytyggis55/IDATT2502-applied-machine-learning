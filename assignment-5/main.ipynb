{
 "cells": [
  {
   "cell_type": "code",
   "execution_count": 1,
   "id": "initial_id",
   "metadata": {
    "collapsed": true,
    "ExecuteTime": {
     "end_time": "2024-09-29T16:42:18.059557600Z",
     "start_time": "2024-09-29T16:42:15.377959200Z"
    }
   },
   "outputs": [
    {
     "data": {
      "text/plain": "       edibility cap-shape cap-surface cap-color bruises?  odor  \\\ncount       8124      8124        8124      8124     8124  8124   \nunique         2         6           4        10        2     9   \ntop            e         x           y         n        f     n   \nfreq        4208      3656        3244      2284     4748  3528   \n\n       gill-attachment gill-spacing gill-size gill-color  ...  \\\ncount             8124         8124      8124       8124  ...   \nunique               2            2         2         12  ...   \ntop                  f            c         b          b  ...   \nfreq              7914         6812      5612       1728  ...   \n\n       stalk-surface-below-ring stalk-color-above-ring stalk-color-below-ring  \\\ncount                      8124                   8124                   8124   \nunique                        4                      9                      9   \ntop                           s                      w                      w   \nfreq                       4936                   4464                   4384   \n\n       veil-type veil-color ring-number ring-type spore-print-color  \\\ncount       8124       8124        8124      8124              8124   \nunique         1          4           3         5                 9   \ntop            p          w           o         p                 w   \nfreq        8124       7924        7488      3968              2388   \n\n       population habitat  \ncount        8124    8124  \nunique          6       7  \ntop             v       d  \nfreq         4040    3148  \n\n[4 rows x 23 columns]",
      "text/html": "<div>\n<style scoped>\n    .dataframe tbody tr th:only-of-type {\n        vertical-align: middle;\n    }\n\n    .dataframe tbody tr th {\n        vertical-align: top;\n    }\n\n    .dataframe thead th {\n        text-align: right;\n    }\n</style>\n<table border=\"1\" class=\"dataframe\">\n  <thead>\n    <tr style=\"text-align: right;\">\n      <th></th>\n      <th>edibility</th>\n      <th>cap-shape</th>\n      <th>cap-surface</th>\n      <th>cap-color</th>\n      <th>bruises?</th>\n      <th>odor</th>\n      <th>gill-attachment</th>\n      <th>gill-spacing</th>\n      <th>gill-size</th>\n      <th>gill-color</th>\n      <th>...</th>\n      <th>stalk-surface-below-ring</th>\n      <th>stalk-color-above-ring</th>\n      <th>stalk-color-below-ring</th>\n      <th>veil-type</th>\n      <th>veil-color</th>\n      <th>ring-number</th>\n      <th>ring-type</th>\n      <th>spore-print-color</th>\n      <th>population</th>\n      <th>habitat</th>\n    </tr>\n  </thead>\n  <tbody>\n    <tr>\n      <th>count</th>\n      <td>8124</td>\n      <td>8124</td>\n      <td>8124</td>\n      <td>8124</td>\n      <td>8124</td>\n      <td>8124</td>\n      <td>8124</td>\n      <td>8124</td>\n      <td>8124</td>\n      <td>8124</td>\n      <td>...</td>\n      <td>8124</td>\n      <td>8124</td>\n      <td>8124</td>\n      <td>8124</td>\n      <td>8124</td>\n      <td>8124</td>\n      <td>8124</td>\n      <td>8124</td>\n      <td>8124</td>\n      <td>8124</td>\n    </tr>\n    <tr>\n      <th>unique</th>\n      <td>2</td>\n      <td>6</td>\n      <td>4</td>\n      <td>10</td>\n      <td>2</td>\n      <td>9</td>\n      <td>2</td>\n      <td>2</td>\n      <td>2</td>\n      <td>12</td>\n      <td>...</td>\n      <td>4</td>\n      <td>9</td>\n      <td>9</td>\n      <td>1</td>\n      <td>4</td>\n      <td>3</td>\n      <td>5</td>\n      <td>9</td>\n      <td>6</td>\n      <td>7</td>\n    </tr>\n    <tr>\n      <th>top</th>\n      <td>e</td>\n      <td>x</td>\n      <td>y</td>\n      <td>n</td>\n      <td>f</td>\n      <td>n</td>\n      <td>f</td>\n      <td>c</td>\n      <td>b</td>\n      <td>b</td>\n      <td>...</td>\n      <td>s</td>\n      <td>w</td>\n      <td>w</td>\n      <td>p</td>\n      <td>w</td>\n      <td>o</td>\n      <td>p</td>\n      <td>w</td>\n      <td>v</td>\n      <td>d</td>\n    </tr>\n    <tr>\n      <th>freq</th>\n      <td>4208</td>\n      <td>3656</td>\n      <td>3244</td>\n      <td>2284</td>\n      <td>4748</td>\n      <td>3528</td>\n      <td>7914</td>\n      <td>6812</td>\n      <td>5612</td>\n      <td>1728</td>\n      <td>...</td>\n      <td>4936</td>\n      <td>4464</td>\n      <td>4384</td>\n      <td>8124</td>\n      <td>7924</td>\n      <td>7488</td>\n      <td>3968</td>\n      <td>2388</td>\n      <td>4040</td>\n      <td>3148</td>\n    </tr>\n  </tbody>\n</table>\n<p>4 rows × 23 columns</p>\n</div>"
     },
     "execution_count": 1,
     "metadata": {},
     "output_type": "execute_result"
    }
   ],
   "source": [
    "import pandas\n",
    "import matplotlib.pyplot as plt\n",
    "\n",
    "dataset = pandas.read_csv('agaricus-lepiota.data')\n",
    "dataset.describe()"
   ]
  },
  {
   "cell_type": "code",
   "execution_count": 61,
   "outputs": [
    {
     "name": "stdout",
     "output_type": "stream",
     "text": [
      "edibility ['p' 'e']\n",
      "cap-shape ['x' 'b' 's' 'f' 'k' 'c']\n",
      "cap-surface ['s' 'y' 'f' 'g']\n",
      "cap-color ['n' 'y' 'w' 'g' 'e' 'p' 'b' 'u' 'c' 'r']\n",
      "bruises? ['t' 'f']\n",
      "odor ['p' 'a' 'l' 'n' 'f' 'c' 'y' 's' 'm']\n",
      "gill-attachment ['f' 'a']\n",
      "gill-spacing ['c' 'w']\n",
      "gill-size ['n' 'b']\n",
      "gill-color ['k' 'n' 'g' 'p' 'w' 'h' 'u' 'e' 'b' 'r' 'y' 'o']\n",
      "stalk-shape ['e' 't']\n",
      "stalk-root ['e' 'c' 'b' 'r' '?']\n",
      "stalk-surface-above-ring ['s' 'f' 'k' 'y']\n",
      "stalk-surface-below-ring ['s' 'f' 'y' 'k']\n",
      "stalk-color-above-ring ['w' 'g' 'p' 'n' 'b' 'e' 'o' 'c' 'y']\n",
      "stalk-color-below-ring ['w' 'p' 'g' 'b' 'n' 'e' 'y' 'o' 'c']\n",
      "veil-type ['p']\n",
      "veil-color ['w' 'n' 'o' 'y']\n",
      "ring-number ['o' 't' 'n']\n",
      "ring-type ['p' 'e' 'l' 'f' 'n']\n",
      "spore-print-color ['k' 'n' 'u' 'h' 'w' 'r' 'o' 'y' 'b']\n",
      "population ['s' 'n' 'a' 'v' 'y' 'c']\n",
      "habitat ['u' 'g' 'm' 'd' 'p' 'w' 'l']\n"
     ]
    }
   ],
   "source": [
    "for column in dataset.columns:\n",
    "    print(column, dataset[column].unique())"
   ],
   "metadata": {
    "collapsed": false,
    "ExecuteTime": {
     "end_time": "2024-09-23T10:13:13.663864700Z",
     "start_time": "2024-09-23T10:13:13.507847400Z"
    }
   },
   "id": "20ffee2a7f7dd016"
  },
  {
   "cell_type": "code",
   "execution_count": 62,
   "outputs": [
    {
     "data": {
      "text/plain": "(array([ 740.,   36.,    0.,  272.,    0., 1268., 1008.,    0.,    0.,\n         592.]),\n array([0. , 0.6, 1.2, 1.8, 2.4, 3. , 3.6, 4.2, 4.8, 5.4, 6. ]),\n <BarContainer object of 10 artists>)"
     },
     "execution_count": 62,
     "metadata": {},
     "output_type": "execute_result"
    },
    {
     "data": {
      "text/plain": "<Figure size 640x480 with 1 Axes>",
      "image/png": "[encoded data removed]"
     },
     "metadata": {},
     "output_type": "display_data"
    }
   ],
   "source": [
    "edible = dataset[dataset[dataset.columns[0]] == 'e']\n",
    "poisonous = dataset[dataset[dataset.columns[0]] == 'p']\n",
    "\n",
    "plt.hist(edible['habitat'], alpha=0.5, label='edible', color='blue')\n",
    "plt.hist(poisonous['habitat'], alpha=0.5, label='poisonous', color='red')"
   ],
   "metadata": {
    "collapsed": false,
    "ExecuteTime": {
     "end_time": "2024-09-23T10:13:13.833090600Z",
     "start_time": "2024-09-23T10:13:13.551372900Z"
    }
   },
   "id": "9efca2bbe11bfd5a"
  },
  {
   "cell_type": "code",
   "execution_count": 65,
   "outputs": [
    {
     "name": "stdout",
     "output_type": "stream",
     "text": [
      "Amount of columns 119\n",
      "edibility_e [False  True]\n",
      "edibility_p [ True False]\n",
      "cap-shape_b [False  True]\n",
      "cap-shape_c [False  True]\n",
      "cap-shape_f [False  True]\n",
      "cap-shape_k [False  True]\n",
      "cap-shape_s [False  True]\n",
      "cap-shape_x [ True False]\n",
      "cap-surface_f [False  True]\n",
      "cap-surface_g [False  True]\n",
      "cap-surface_s [ True False]\n",
      "cap-surface_y [False  True]\n",
      "cap-color_b [False  True]\n",
      "cap-color_c [False  True]\n",
      "cap-color_e [False  True]\n",
      "cap-color_g [False  True]\n",
      "cap-color_n [ True False]\n",
      "cap-color_p [False  True]\n",
      "cap-color_r [False  True]\n",
      "cap-color_u [False  True]\n",
      "cap-color_w [False  True]\n",
      "cap-color_y [False  True]\n",
      "bruises?_f [False  True]\n",
      "bruises?_t [ True False]\n",
      "odor_a [False  True]\n",
      "odor_c [False  True]\n",
      "odor_f [False  True]\n",
      "odor_l [False  True]\n",
      "odor_m [False  True]\n",
      "odor_n [False  True]\n",
      "odor_p [ True False]\n",
      "odor_s [False  True]\n",
      "odor_y [False  True]\n",
      "gill-attachment_a [False  True]\n",
      "gill-attachment_f [ True False]\n",
      "gill-spacing_c [ True False]\n",
      "gill-spacing_w [False  True]\n",
      "gill-size_b [False  True]\n",
      "gill-size_n [ True False]\n",
      "gill-color_b [False  True]\n",
      "gill-color_e [False  True]\n",
      "gill-color_g [False  True]\n",
      "gill-color_h [False  True]\n",
      "gill-color_k [ True False]\n",
      "gill-color_n [False  True]\n",
      "gill-color_o [False  True]\n",
      "gill-color_p [False  True]\n",
      "gill-color_r [False  True]\n",
      "gill-color_u [False  True]\n",
      "gill-color_w [False  True]\n",
      "gill-color_y [False  True]\n",
      "stalk-shape_e [ True False]\n",
      "stalk-shape_t [False  True]\n",
      "stalk-root_? [False  True]\n",
      "stalk-root_b [False  True]\n",
      "stalk-root_c [False  True]\n",
      "stalk-root_e [ True False]\n",
      "stalk-root_r [False  True]\n",
      "stalk-surface-above-ring_f [False  True]\n",
      "stalk-surface-above-ring_k [False  True]\n",
      "stalk-surface-above-ring_s [ True False]\n",
      "stalk-surface-above-ring_y [False  True]\n",
      "stalk-surface-below-ring_f [False  True]\n",
      "stalk-surface-below-ring_k [False  True]\n",
      "stalk-surface-below-ring_s [ True False]\n",
      "stalk-surface-below-ring_y [False  True]\n",
      "stalk-color-above-ring_b [False  True]\n",
      "stalk-color-above-ring_c [False  True]\n",
      "stalk-color-above-ring_e [False  True]\n",
      "stalk-color-above-ring_g [False  True]\n",
      "stalk-color-above-ring_n [False  True]\n",
      "stalk-color-above-ring_o [False  True]\n",
      "stalk-color-above-ring_p [False  True]\n",
      "stalk-color-above-ring_w [ True False]\n",
      "stalk-color-above-ring_y [False  True]\n",
      "stalk-color-below-ring_b [False  True]\n",
      "stalk-color-below-ring_c [False  True]\n",
      "stalk-color-below-ring_e [False  True]\n",
      "stalk-color-below-ring_g [False  True]\n",
      "stalk-color-below-ring_n [False  True]\n",
      "stalk-color-below-ring_o [False  True]\n",
      "stalk-color-below-ring_p [False  True]\n",
      "stalk-color-below-ring_w [ True False]\n",
      "stalk-color-below-ring_y [False  True]\n",
      "veil-type_p [ True]\n",
      "veil-color_n [False  True]\n",
      "veil-color_o [False  True]\n",
      "veil-color_w [ True False]\n",
      "veil-color_y [False  True]\n",
      "ring-number_n [False  True]\n",
      "ring-number_o [ True False]\n",
      "ring-number_t [False  True]\n",
      "ring-type_e [False  True]\n",
      "ring-type_f [False  True]\n",
      "ring-type_l [False  True]\n",
      "ring-type_n [False  True]\n",
      "ring-type_p [ True False]\n",
      "spore-print-color_b [False  True]\n",
      "spore-print-color_h [False  True]\n",
      "spore-print-color_k [ True False]\n",
      "spore-print-color_n [False  True]\n",
      "spore-print-color_o [False  True]\n",
      "spore-print-color_r [False  True]\n",
      "spore-print-color_u [False  True]\n",
      "spore-print-color_w [False  True]\n",
      "spore-print-color_y [False  True]\n",
      "population_a [False  True]\n",
      "population_c [False  True]\n",
      "population_n [False  True]\n",
      "population_s [ True False]\n",
      "population_v [False  True]\n",
      "population_y [False  True]\n",
      "habitat_d [False  True]\n",
      "habitat_g [False  True]\n",
      "habitat_l [False  True]\n",
      "habitat_m [False  True]\n",
      "habitat_p [False  True]\n",
      "habitat_u [ True False]\n",
      "habitat_w [False  True]\n"
     ]
    }
   ],
   "source": [
    "dummy = pandas.get_dummies(dataset)\n",
    "\n",
    "print(\"Amount of columns\", dummy.columns.size)\n",
    "\n",
    "for column in dummy.columns:\n",
    "    print(column, dummy[column].unique())\n",
    "    "
   ],
   "metadata": {
    "collapsed": false,
    "ExecuteTime": {
     "end_time": "2024-09-23T10:22:58.645277400Z",
     "start_time": "2024-09-23T10:22:58.110834800Z"
    }
   },
   "id": "40b7bface4f69e1e"
  },
  {
   "cell_type": "code",
   "execution_count": 64,
   "outputs": [
    {
     "data": {
      "text/plain": "<matplotlib.image.AxesImage at 0x7f91f08a2830>"
     },
     "execution_count": 64,
     "metadata": {},
     "output_type": "execute_result"
    },
    {
     "data": {
      "text/plain": "<Figure size 640x480 with 1 Axes>",
      "image/png": "[encoded data removed]"
     },
     "metadata": {},
     "output_type": "display_data"
    }
   ],
   "source": [
    "plt.spy(dummy, aspect='auto')"
   ],
   "metadata": {
    "collapsed": false,
    "ExecuteTime": {
     "end_time": "2024-09-23T10:13:14.285314600Z",
     "start_time": "2024-09-23T10:13:13.792881Z"
    }
   },
   "id": "20311f0ecaf5a922"
  }
 ],
 "metadata": {
  "kernelspec": {
   "display_name": "Python 3",
   "language": "python",
   "name": "python3"
  },
  "language_info": {
   "codemirror_mode": {
    "name": "ipython",
    "version": 2
   },
   "file_extension": ".py",
   "mimetype": "text/x-python",
   "name": "python",
   "nbconvert_exporter": "python",
   "pygments_lexer": "ipython2",
   "version": "2.7.6"
  }
 },
 "nbformat": 4,
 "nbformat_minor": 5
}
